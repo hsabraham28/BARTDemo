{
 "cells": [
  {
   "cell_type": "code",
   "execution_count": 35,
   "id": "0b49a2ae-a31b-423c-94dd-1c85eb11b60d",
   "metadata": {},
   "outputs": [],
   "source": [
    "import io\n",
    "import re\n",
    "import matplotlib.pyplot as plt\n",
    "import string\n",
    "import numpy as np\n",
    "import pandas as pd\n",
    "from utils import *\n",
    "\n",
    "import tensorflow as tf\n",
    "from tensorflow.keras import Sequential\n",
    "from tensorflow.keras import layers\n",
    "from tensorflow.keras.layers import Dense, Embedding, GlobalAveragePooling1D\n",
    "from tensorflow.keras.layers.experimental.preprocessing import TextVectorization\n",
    "from tensorflow.keras.layers.experimental import preprocessing"
   ]
  },
  {
   "cell_type": "code",
   "execution_count": 36,
   "id": "a667500c-472b-47b9-bcea-361800aa1e3e",
   "metadata": {},
   "outputs": [],
   "source": [
    "# iterate through zip file of occ reports to construct a dataframe (may take a while)\n",
    "\n",
    "#occ_df = read_word_doc_zip_as_df('occ-report-docs/occ-reports.zip')"
   ]
  },
  {
   "cell_type": "code",
   "execution_count": 37,
   "id": "04b08f44-8f2c-4ace-9a47-e6713afafd3f",
   "metadata": {},
   "outputs": [],
   "source": [
    "#occ_df = occ_df[[\"Time\", \"Log\", \"BPD\"]]\n",
    "#occ_df['BPD'] = occ_df['BPD'].apply(lambda x: str(x).strip())"
   ]
  },
  {
   "cell_type": "code",
   "execution_count": 38,
   "id": "63a6cf8a-d165-41b3-b37e-8c9a6385f1b4",
   "metadata": {},
   "outputs": [],
   "source": [
    "#csv = occ_df.to_csv('csv/occ-reports.csv', index=False)"
   ]
  },
  {
   "cell_type": "code",
   "execution_count": 39,
   "id": "727d62bd-16a3-45d3-bea0-f80784f52af3",
   "metadata": {},
   "outputs": [],
   "source": [
    "#csv_to_dataset(csv_path, batch_size, label, num_epochs)"
   ]
  },
  {
   "cell_type": "code",
   "execution_count": 40,
   "id": "0e71fbb4-2c12-4b2c-9196-96f3ea003c2a",
   "metadata": {},
   "outputs": [
    {
     "name": "stderr",
     "output_type": "stream",
     "text": [
      "<ipython-input-40-7c588d8d5f06>:6: SettingWithCopyWarning: \n",
      "A value is trying to be set on a copy of a slice from a DataFrame.\n",
      "Try using .loc[row_indexer,col_indexer] = value instead\n",
      "\n",
      "See the caveats in the documentation: https://pandas.pydata.org/pandas-docs/stable/user_guide/indexing.html#returning-a-view-versus-a-copy\n",
      "  labeled_df[\"Time\"] = labeled_df[\"Time\"].apply(lambda x: re.sub(\"[^0-9]\", \"\", x))\n",
      "<ipython-input-40-7c588d8d5f06>:10: SettingWithCopyWarning: \n",
      "A value is trying to be set on a copy of a slice from a DataFrame.\n",
      "Try using .loc[row_indexer,col_indexer] = value instead\n",
      "\n",
      "See the caveats in the documentation: https://pandas.pydata.org/pandas-docs/stable/user_guide/indexing.html#returning-a-view-versus-a-copy\n",
      "  labeled_df['Cat'] = labeled_df['Cat'].apply(lambda x: int(x))\n"
     ]
    },
    {
     "data": {
      "text/html": [
       "<div>\n",
       "<style scoped>\n",
       "    .dataframe tbody tr th:only-of-type {\n",
       "        vertical-align: middle;\n",
       "    }\n",
       "\n",
       "    .dataframe tbody tr th {\n",
       "        vertical-align: top;\n",
       "    }\n",
       "\n",
       "    .dataframe thead th {\n",
       "        text-align: right;\n",
       "    }\n",
       "</style>\n",
       "<table border=\"1\" class=\"dataframe\">\n",
       "  <thead>\n",
       "    <tr style=\"text-align: right;\">\n",
       "      <th></th>\n",
       "      <th>Time</th>\n",
       "      <th>Log</th>\n",
       "      <th>Cat</th>\n",
       "    </tr>\n",
       "  </thead>\n",
       "  <tbody>\n",
       "    <tr>\n",
       "      <th>0</th>\n",
       "      <td>2</td>\n",
       "      <td>T385 released, 5 minutes late.</td>\n",
       "      <td>10</td>\n",
       "    </tr>\n",
       "    <tr>\n",
       "      <th>1</th>\n",
       "      <td>400</td>\n",
       "      <td>CAR COUNT\\nA’s:  51   B’s:   329   C’s:   172 ...</td>\n",
       "      <td>10</td>\n",
       "    </tr>\n",
       "    <tr>\n",
       "      <th>2</th>\n",
       "      <td>0400</td>\n",
       "      <td>Daily SCRAM / Spare Train Report: OCY: T337 Ho...</td>\n",
       "      <td>10</td>\n",
       "    </tr>\n",
       "    <tr>\n",
       "      <th>3</th>\n",
       "      <td>443</td>\n",
       "      <td>T229 late dispatching OHY due to FW scheduling...</td>\n",
       "      <td>7</td>\n",
       "    </tr>\n",
       "    <tr>\n",
       "      <th>4</th>\n",
       "      <td>447</td>\n",
       "      <td>T229 verifies A78 [A1 &amp; A2 tracks] cranked, cl...</td>\n",
       "      <td>6</td>\n",
       "    </tr>\n",
       "  </tbody>\n",
       "</table>\n",
       "</div>"
      ],
      "text/plain": [
       "   Time                                                Log  Cat\n",
       "0     2                     T385 released, 5 minutes late.   10\n",
       "1   400  CAR COUNT\\nA’s:  51   B’s:   329   C’s:   172 ...   10\n",
       "2  0400  Daily SCRAM / Spare Train Report: OCY: T337 Ho...   10\n",
       "3   443  T229 late dispatching OHY due to FW scheduling...    7\n",
       "4   447  T229 verifies A78 [A1 & A2 tracks] cranked, cl...    6"
      ]
     },
     "execution_count": 40,
     "metadata": {},
     "output_type": "execute_result"
    }
   ],
   "source": [
    "occ_df = pd.read_csv('csv/nadav-labeled-2.csv')\n",
    "occ_df = occ_df[[\"Time\", \"Log\", \"Cat\"]]\n",
    "\n",
    "# first 100 rows are labeled\n",
    "labeled_df = occ_df.iloc[:500,:]\n",
    "labeled_df[\"Time\"] = labeled_df[\"Time\"].apply(lambda x: re.sub(\"[^0-9]\", \"\", x))\n",
    "unlabeled_df = occ_df.iloc[501:,:]\n",
    "\n",
    "#labeled_df = labeled_df[labeled_df.Cat.apply(lambda x: x.isnumeric())]\n",
    "labeled_df['Cat'] = labeled_df['Cat'].apply(lambda x: int(x))\n",
    "labeled_df.head(5)"
   ]
  },
  {
   "cell_type": "code",
   "execution_count": 41,
   "id": "8218f238-a4ce-4842-8ab8-d1760f230373",
   "metadata": {},
   "outputs": [],
   "source": [
    "# Save dataframes as csv files\n",
    "\n",
    "labeled_df.to_csv('csv/labeled.csv', index=False)\n",
    "unlabeled_df.to_csv('csv/unlabeled.csv', index=False)"
   ]
  },
  {
   "cell_type": "code",
   "execution_count": 42,
   "id": "73326ee4-19b2-42e4-9135-59a9fc4208aa",
   "metadata": {},
   "outputs": [],
   "source": [
    "# Convert csv to tf dataset\n",
    "\n",
    "labeled_ds = csv_to_dataset('csv/labeled.csv', batch_size=1, label='Cat', num_epochs=1)\n",
    "unlabeled_ds = csv_to_dataset('csv/unlabeled.csv', batch_size=1, label='Cat', num_epochs=1)"
   ]
  },
  {
   "cell_type": "code",
   "execution_count": 43,
   "id": "917441b5-cbf9-419b-9498-c20ef402cc42",
   "metadata": {},
   "outputs": [],
   "source": [
    "# Split labeled dataset into train and validation sets (planning on implementing k-fold cross validation)\n",
    "labeled_ds = labeled_ds.shuffle(500)\n",
    "train_ds = labeled_ds.take(400)\n",
    "val_ds = labeled_ds.skip(400)"
   ]
  },
  {
   "cell_type": "code",
   "execution_count": 44,
   "id": "3369f92d-cedf-447f-9789-c9d8d5fc5094",
   "metadata": {},
   "outputs": [],
   "source": [
    "# Not really sure what this does but apparently it make the code run faster \n",
    "AUTOTUNE = tf.data.AUTOTUNE\n",
    "\n",
    "train_ds = train_ds.cache().prefetch(buffer_size=AUTOTUNE)\n",
    "val_ds = val_ds.cache().prefetch(buffer_size=AUTOTUNE)"
   ]
  },
  {
   "cell_type": "code",
   "execution_count": 45,
   "id": "fc2c3e41-ad08-480f-a74a-0e7e96782179",
   "metadata": {},
   "outputs": [],
   "source": [
    "# Create a custom standardization function to strip HTML break tags '<br />'.\n",
    "def custom_standardization(input_data):\n",
    "    return input_data\n",
    "    lowercase = tf.strings.lower(input_data)\n",
    "    stripped_html = tf.strings.regex_replace(lowercase, '<br />', ' ')\n",
    "    return tf.strings.regex_replace(stripped_html,\n",
    "                                  '[%s]' % re.escape(string.punctuation), '')"
   ]
  },
  {
   "cell_type": "code",
   "execution_count": 46,
   "id": "9ac34c90-2d9d-4a46-9b90-2cbfddd76173",
   "metadata": {},
   "outputs": [],
   "source": [
    "# Vocabulary size and number of words in a sequence.\n",
    "vocab_size = 10000\n",
    "sequence_length = 20\n",
    "\n",
    "# Use the text vectorization layer to normalize, split, and map strings to\n",
    "# integers. Note that the layer uses the custom standardization defined above.\n",
    "# Set maximum_sequence length as all samples are not of the same length.\n",
    "vectorize_layer = TextVectorization(\n",
    "    standardize=\"lower_and_strip_punctuation\",\n",
    "    max_tokens=vocab_size,\n",
    "    output_mode='int',\n",
    "    output_sequence_length=sequence_length)\n",
    "\n",
    "# Make a text-only dataset (no labels) and call adapt to build the vocabulary.\n",
    "text_ds = train_ds.map(lambda x, y: x['Log'])\n",
    "vectorize_layer.adapt(text_ds)"
   ]
  },
  {
   "cell_type": "code",
   "execution_count": 47,
   "id": "c05e60ed-ce6b-4e4e-94a5-7409d28fd886",
   "metadata": {},
   "outputs": [],
   "source": [
    "# hyperparameters\n",
    "embedding_dim=5\n",
    "hidden_layers=20\n",
    "\n",
    "model = Sequential([\n",
    "  vectorize_layer,                                         # Map strings to integer indices within the vocabulary\n",
    "  Embedding(vocab_size, embedding_dim, name=\"embedding\"),  # Maps integer indices (which stand for specific words) to dense vectors (their embeddings)\n",
    "  GlobalAveragePooling1D(),                                # Average of the embedding values over sequence length\n",
    "  Dense(hidden_layers, activation='relu'),\n",
    "  Dense(hidden_layers, activation='relu'),\n",
    "  Dense(14, activation=\"softmax\")                          # Output layer\n",
    "])"
   ]
  },
  {
   "cell_type": "code",
   "execution_count": 48,
   "id": "11d43b67-c9c5-49a1-8cb9-9387acf454b1",
   "metadata": {},
   "outputs": [],
   "source": [
    "tensorboard_callback = tf.keras.callbacks.TensorBoard(log_dir=\"logs\")"
   ]
  },
  {
   "cell_type": "code",
   "execution_count": 49,
   "id": "5a72a443-3adb-437e-8413-89c1d3d52c89",
   "metadata": {},
   "outputs": [],
   "source": [
    "model.compile(optimizer='adam',\n",
    "              loss=tf.keras.losses.SparseCategoricalCrossentropy(),\n",
    "              metrics=['accuracy'])"
   ]
  },
  {
   "cell_type": "code",
   "execution_count": 50,
   "id": "edece6a9-d986-48e0-8caf-9675c561316a",
   "metadata": {},
   "outputs": [],
   "source": [
    "cp_callback = tf.keras.callbacks.ModelCheckpoint(filepath=\"checkpints\",\n",
    "                                                 save_weights_only=True,\n",
    "                                                 verbose=1)"
   ]
  },
  {
   "cell_type": "code",
   "execution_count": 51,
   "id": "18c43937-59f7-451d-b2b9-b1c260b5e573",
   "metadata": {},
   "outputs": [
    {
     "name": "stdout",
     "output_type": "stream",
     "text": [
      "Epoch 1/30\n"
     ]
    },
    {
     "name": "stderr",
     "output_type": "stream",
     "text": [
      "/anaconda/envs/py38_default/lib/python3.8/site-packages/keras/engine/functional.py:582: UserWarning: Input dict contained keys ['Time', 'Log'] which did not match any model input. They will be ignored by the model.\n",
      "  warnings.warn(\n"
     ]
    },
    {
     "name": "stdout",
     "output_type": "stream",
     "text": [
      "400/400 [==============================] - 1s 2ms/step - loss: 2.0548 - accuracy: 0.4325 - val_loss: 1.7579 - val_accuracy: 0.3600\n",
      "Epoch 2/30\n",
      "400/400 [==============================] - 1s 2ms/step - loss: 1.5398 - accuracy: 0.4700 - val_loss: 1.4768 - val_accuracy: 0.4600\n",
      "Epoch 3/30\n",
      "400/400 [==============================] - 1s 2ms/step - loss: 1.3426 - accuracy: 0.5200 - val_loss: 1.2986 - val_accuracy: 0.5600\n",
      "Epoch 4/30\n",
      "400/400 [==============================] - 1s 2ms/step - loss: 1.1956 - accuracy: 0.5550 - val_loss: 1.1553 - val_accuracy: 0.5800\n",
      "Epoch 5/30\n",
      "400/400 [==============================] - 1s 2ms/step - loss: 1.0532 - accuracy: 0.6525 - val_loss: 1.0348 - val_accuracy: 0.6900\n",
      "Epoch 6/30\n",
      "400/400 [==============================] - 1s 2ms/step - loss: 0.9278 - accuracy: 0.7200 - val_loss: 0.9368 - val_accuracy: 0.7300\n",
      "Epoch 7/30\n",
      "400/400 [==============================] - 1s 2ms/step - loss: 0.8260 - accuracy: 0.7475 - val_loss: 0.8608 - val_accuracy: 0.7400\n",
      "Epoch 8/30\n",
      "400/400 [==============================] - 1s 2ms/step - loss: 0.7477 - accuracy: 0.7600 - val_loss: 0.8034 - val_accuracy: 0.7600\n",
      "Epoch 9/30\n",
      "400/400 [==============================] - 1s 2ms/step - loss: 0.6820 - accuracy: 0.7650 - val_loss: 0.7591 - val_accuracy: 0.7600\n",
      "Epoch 10/30\n",
      "400/400 [==============================] - 1s 2ms/step - loss: 0.6298 - accuracy: 0.7750 - val_loss: 0.7244 - val_accuracy: 0.7600\n",
      "Epoch 11/30\n",
      "400/400 [==============================] - 1s 2ms/step - loss: 0.5876 - accuracy: 0.7875 - val_loss: 0.7000 - val_accuracy: 0.8000\n",
      "Epoch 12/30\n",
      "400/400 [==============================] - 1s 2ms/step - loss: 0.5479 - accuracy: 0.8200 - val_loss: 0.6864 - val_accuracy: 0.7900\n",
      "Epoch 13/30\n",
      "400/400 [==============================] - 1s 2ms/step - loss: 0.5117 - accuracy: 0.8300 - val_loss: 0.6735 - val_accuracy: 0.8000\n",
      "Epoch 14/30\n",
      "400/400 [==============================] - 1s 2ms/step - loss: 0.4795 - accuracy: 0.8325 - val_loss: 0.6557 - val_accuracy: 0.8000\n",
      "Epoch 15/30\n",
      "400/400 [==============================] - 1s 2ms/step - loss: 0.4506 - accuracy: 0.8325 - val_loss: 0.6579 - val_accuracy: 0.8000\n",
      "Epoch 16/30\n",
      "400/400 [==============================] - 1s 2ms/step - loss: 0.4157 - accuracy: 0.8375 - val_loss: 0.6359 - val_accuracy: 0.8300\n",
      "Epoch 17/30\n",
      "400/400 [==============================] - 1s 2ms/step - loss: 0.3779 - accuracy: 0.8550 - val_loss: 0.6445 - val_accuracy: 0.8400\n",
      "Epoch 18/30\n",
      "400/400 [==============================] - 1s 2ms/step - loss: 0.3397 - accuracy: 0.8700 - val_loss: 0.6391 - val_accuracy: 0.8600\n",
      "Epoch 19/30\n",
      "400/400 [==============================] - 1s 2ms/step - loss: 0.3054 - accuracy: 0.8775 - val_loss: 0.6563 - val_accuracy: 0.8600\n",
      "Epoch 20/30\n",
      "400/400 [==============================] - 1s 2ms/step - loss: 0.2688 - accuracy: 0.8925 - val_loss: 0.6577 - val_accuracy: 0.8800\n",
      "Epoch 21/30\n",
      "400/400 [==============================] - 1s 2ms/step - loss: 0.2348 - accuracy: 0.9250 - val_loss: 0.6735 - val_accuracy: 0.9100\n",
      "Epoch 22/30\n",
      "400/400 [==============================] - 1s 2ms/step - loss: 0.2040 - accuracy: 0.9325 - val_loss: 0.6906 - val_accuracy: 0.9000\n",
      "Epoch 23/30\n",
      "400/400 [==============================] - 1s 2ms/step - loss: 0.1760 - accuracy: 0.9550 - val_loss: 0.7167 - val_accuracy: 0.9100\n",
      "Epoch 24/30\n",
      "400/400 [==============================] - 1s 2ms/step - loss: 0.1513 - accuracy: 0.9625 - val_loss: 0.7349 - val_accuracy: 0.9100\n",
      "Epoch 25/30\n",
      "400/400 [==============================] - 1s 2ms/step - loss: 0.1302 - accuracy: 0.9675 - val_loss: 0.7619 - val_accuracy: 0.9200\n",
      "Epoch 26/30\n",
      "400/400 [==============================] - 1s 2ms/step - loss: 0.1104 - accuracy: 0.9700 - val_loss: 0.7912 - val_accuracy: 0.9200\n",
      "Epoch 27/30\n",
      "400/400 [==============================] - 1s 2ms/step - loss: 0.0942 - accuracy: 0.9775 - val_loss: 0.8036 - val_accuracy: 0.9200\n",
      "Epoch 28/30\n",
      "400/400 [==============================] - 1s 2ms/step - loss: 0.0802 - accuracy: 0.9850 - val_loss: 0.8400 - val_accuracy: 0.9300\n",
      "Epoch 29/30\n",
      "400/400 [==============================] - 1s 2ms/step - loss: 0.0716 - accuracy: 0.9875 - val_loss: 0.8589 - val_accuracy: 0.9300\n",
      "Epoch 30/30\n",
      "400/400 [==============================] - 1s 2ms/step - loss: 0.0634 - accuracy: 0.9850 - val_loss: 0.9033 - val_accuracy: 0.9200\n"
     ]
    }
   ],
   "source": [
    "history = model.fit(\n",
    "    train_ds,\n",
    "    validation_data=val_ds,\n",
    "    epochs=30,\n",
    "    callbacks=[tensorboard_callback])"
   ]
  },
  {
   "cell_type": "code",
   "execution_count": 52,
   "id": "733dd380-f56d-48b8-86fd-c9b34cce7278",
   "metadata": {},
   "outputs": [
    {
     "name": "stdout",
     "output_type": "stream",
     "text": [
      "INFO:tensorflow:Assets written to: model/assets\n"
     ]
    }
   ],
   "source": [
    "model.save('model')"
   ]
  },
  {
   "cell_type": "code",
   "execution_count": 53,
   "id": "9fddf911-01d6-4448-9e49-e154d4115752",
   "metadata": {},
   "outputs": [
    {
     "name": "stdout",
     "output_type": "stream",
     "text": [
      "400/400 [==============================] - 0s 1ms/step - loss: 0.0571 - accuracy: 0.9900\n",
      "Loss:  0.05712410807609558\n",
      "Accuracy:  0.9900000095367432\n"
     ]
    }
   ],
   "source": [
    "loss, accuracy = model.evaluate(train_ds)\n",
    "\n",
    "print(\"Loss: \", loss)\n",
    "print(\"Accuracy: \", accuracy)"
   ]
  },
  {
   "cell_type": "code",
   "execution_count": 54,
   "id": "8f13af8d-df75-45e1-a6a2-fafb363a7a55",
   "metadata": {},
   "outputs": [
    {
     "data": {
      "text/plain": [
       "dict_keys(['loss', 'accuracy', 'val_loss', 'val_accuracy'])"
      ]
     },
     "execution_count": 54,
     "metadata": {},
     "output_type": "execute_result"
    }
   ],
   "source": [
    "history_dict = history.history\n",
    "history_dict.keys()"
   ]
  },
  {
   "cell_type": "code",
   "execution_count": 55,
   "id": "6f35e65b-068b-40e6-8b21-e8322ac45b6b",
   "metadata": {},
   "outputs": [
    {
     "data": {
      "image/png": "[encoded data removed]",
      "text/plain": [
       "<Figure size 432x288 with 1 Axes>"
      ]
     },
     "metadata": {
      "needs_background": "light"
     },
     "output_type": "display_data"
    }
   ],
   "source": [
    "acc = history_dict['accuracy']\n",
    "val_acc = history_dict['val_accuracy']\n",
    "loss = history_dict['loss']\n",
    "val_loss = history_dict['val_loss']\n",
    "\n",
    "epochs = range(1, len(acc) + 1)\n",
    "\n",
    "# \"bo\" is for \"blue dot\"\n",
    "plt.plot(epochs, loss, 'bo', label='Training loss')\n",
    "# b is for \"solid blue line\"\n",
    "plt.plot(epochs, val_loss, 'b', label='Validation loss')\n",
    "plt.title('Training and validation loss')\n",
    "plt.xlabel('Epochs')\n",
    "plt.ylabel('Loss')\n",
    "plt.legend()\n",
    "\n",
    "plt.show()"
   ]
  },
  {
   "cell_type": "code",
   "execution_count": 56,
   "id": "d48d2cf4-0912-4160-96c4-2ccfc0586a9e",
   "metadata": {},
   "outputs": [
    {
     "data": {
      "image/png": "[encoded data removed]",
      "text/plain": [
       "<Figure size 432x288 with 1 Axes>"
      ]
     },
     "metadata": {
      "needs_background": "light"
     },
     "output_type": "display_data"
    }
   ],
   "source": [
    "plt.plot(epochs, acc, 'bo', label='Training acc')\n",
    "plt.plot(epochs, val_acc, 'b', label='Validation acc')\n",
    "plt.title('Training and validation accuracy')\n",
    "plt.xlabel('Epochs')\n",
    "plt.ylabel('Accuracy')\n",
    "plt.legend(loc='lower right')\n",
    "\n",
    "plt.show()"
   ]
  },
  {
   "cell_type": "code",
   "execution_count": 57,
   "id": "96c69535-c81d-4890-a629-13e2be57a3fb",
   "metadata": {},
   "outputs": [
    {
     "name": "stdout",
     "output_type": "stream",
     "text": [
      "(OrderedDict([('Time', <tf.Tensor: shape=(1,), dtype=string, numpy=array([b'647'], dtype=object)>), ('Log', <tf.Tensor: shape=(1,), dtype=string, numpy=\n",
      "array([b'T455 released ATO, (336) second delay. T321 (300), T109 (400), T371 (265), T511 (116), T457\\n(79), T323 (74) second secondary delays into M10-1.'],\n",
      "      dtype=object)>)]), <tf.Tensor: shape=(1,), dtype=string, numpy=array([b''], dtype=object)>)\n",
      "[11]\n"
     ]
    }
   ],
   "source": [
    "i = 1\n",
    "for element in unlabeled_ds:\n",
    "    print(element)\n",
    "    print(np.argmax(model.predict(element), axis=1))\n",
    "    i-=1\n",
    "    if i == 0:\n",
    "        break\n",
    "    print()"
   ]
  },
  {
   "cell_type": "code",
   "execution_count": 58,
   "id": "8a1258ff-47dc-4aca-a876-d84f08f8d28d",
   "metadata": {},
   "outputs": [],
   "source": [
    "# Save word embeddings \n",
    "# view embedding @ http://projector.tensorflow.org/\n",
    "# upload vectors.tsv and metadata.tsv\n",
    "\n",
    "weights = model.get_layer('embedding').get_weights()[0]\n",
    "vocab = vectorize_layer.get_vocabulary()\n",
    "\n",
    "save_embeddings(weights, vocab)"
   ]
  },
  {
   "cell_type": "code",
   "execution_count": 59,
   "id": "468a954d-d2c3-43ac-8dfa-2dda1064418b",
   "metadata": {},
   "outputs": [],
   "source": [
    "model = tf.keras.models.load_model('model')"
   ]
  },
  {
   "cell_type": "code",
   "execution_count": 60,
   "id": "6d131f80-79f6-4a56-91ac-ba510c22276d",
   "metadata": {},
   "outputs": [],
   "source": [
    "class_legend = MLB_team = {\n",
    "    0:\"Misc\",\n",
    "    1:'Other BPD',\n",
    "    2:'Homeless',\n",
    "    3:'Medical',\n",
    "    4:'Patron interference',\n",
    "    5:\"Vehicle failure\",\n",
    "    6:\"Wayside equipment\",\n",
    "    7:\"Software related failures\",\n",
    "    8:\"Human Error\",\n",
    "    9:\"Weather\",\n",
    "    10:\"Info (no error)\",\n",
    "    11:\"Delays\",\n",
    "    12:\"Track obstruction\",\n",
    "    13:\"Schedule maintenance\"\n",
    "}"
   ]
  },
  {
   "cell_type": "code",
   "execution_count": 61,
   "id": "cb066d7f-7f19-4d98-9307-303763f51368",
   "metadata": {},
   "outputs": [
    {
     "name": "stdout",
     "output_type": "stream",
     "text": [
      "Delays\n",
      "Other BPD\n",
      "Other BPD\n"
     ]
    }
   ],
   "source": [
    "for log in [\"T221 late arrival to K30-2\", \n",
    "            \"DMZ1 cleared Cat B W/O's for the M55XL. Protections released.\", \n",
    "            \"T445 BPD hold K30-1 for a half naked man on the trail c346.\"\n",
    "           ]:\n",
    "    print(class_legend[np.argmax(model.predict([log]))])\n"
   ]
  },
  {
   "cell_type": "code",
   "execution_count": 62,
   "id": "f8268d79-a6bf-49a9-abbc-7709e6d6b9bc",
   "metadata": {},
   "outputs": [
    {
     "name": "stderr",
     "output_type": "stream",
     "text": [
      "<ipython-input-62-ec1a9ca4cfb5>:1: SettingWithCopyWarning: \n",
      "A value is trying to be set on a copy of a slice from a DataFrame.\n",
      "Try using .loc[row_indexer,col_indexer] = value instead\n",
      "\n",
      "See the caveats in the documentation: https://pandas.pydata.org/pandas-docs/stable/user_guide/indexing.html#returning-a-view-versus-a-copy\n",
      "  labeled_df['Log'] = labeled_df['Log'].apply(lambda log: str(log))\n",
      "<ipython-input-62-ec1a9ca4cfb5>:2: SettingWithCopyWarning: \n",
      "A value is trying to be set on a copy of a slice from a DataFrame.\n",
      "Try using .loc[row_indexer,col_indexer] = value instead\n",
      "\n",
      "See the caveats in the documentation: https://pandas.pydata.org/pandas-docs/stable/user_guide/indexing.html#returning-a-view-versus-a-copy\n",
      "  labeled_df['Pred'] = labeled_df['Log'].apply(lambda log: np.argmax(model.predict([log]), axis=1)[0])\n"
     ]
    }
   ],
   "source": [
    "labeled_df['Log'] = labeled_df['Log'].apply(lambda log: str(log))\n",
    "labeled_df['Pred'] = labeled_df['Log'].apply(lambda log: np.argmax(model.predict([log]), axis=1)[0])"
   ]
  },
  {
   "cell_type": "code",
   "execution_count": 63,
   "id": "be598b04-4aaa-4398-a6ea-dbe548fade68",
   "metadata": {},
   "outputs": [
    {
     "data": {
      "text/html": [
       "<div>\n",
       "<style scoped>\n",
       "    .dataframe tbody tr th:only-of-type {\n",
       "        vertical-align: middle;\n",
       "    }\n",
       "\n",
       "    .dataframe tbody tr th {\n",
       "        vertical-align: top;\n",
       "    }\n",
       "\n",
       "    .dataframe thead th {\n",
       "        text-align: right;\n",
       "    }\n",
       "</style>\n",
       "<table border=\"1\" class=\"dataframe\">\n",
       "  <thead>\n",
       "    <tr style=\"text-align: right;\">\n",
       "      <th></th>\n",
       "      <th>Time</th>\n",
       "      <th>Log</th>\n",
       "      <th>Cat</th>\n",
       "      <th>Pred</th>\n",
       "    </tr>\n",
       "  </thead>\n",
       "  <tbody>\n",
       "    <tr>\n",
       "      <th>400</th>\n",
       "      <td>1530</td>\n",
       "      <td>T441 BOIP approaching R50-2, TO completing Aux...</td>\n",
       "      <td>7</td>\n",
       "      <td>7</td>\n",
       "    </tr>\n",
       "    <tr>\n",
       "      <th>401</th>\n",
       "      <td>1531</td>\n",
       "      <td>T441 approaching R50-2 stopped with a BOIP, tr...</td>\n",
       "      <td>7</td>\n",
       "      <td>7</td>\n",
       "    </tr>\n",
       "    <tr>\n",
       "      <th>402</th>\n",
       "      <td>1532</td>\n",
       "      <td>T227 no ATO doors at S20-2, 311.</td>\n",
       "      <td>5</td>\n",
       "      <td>5</td>\n",
       "    </tr>\n",
       "    <tr>\n",
       "      <th>403</th>\n",
       "      <td>1534</td>\n",
       "      <td>T441 reports they are moving ATO after the AUX...</td>\n",
       "      <td>7</td>\n",
       "      <td>7</td>\n",
       "    </tr>\n",
       "    <tr>\n",
       "      <th>404</th>\n",
       "      <td>1536</td>\n",
       "      <td>T449 M20-2 door open, instructed to do a coupl...</td>\n",
       "      <td>7</td>\n",
       "      <td>7</td>\n",
       "    </tr>\n",
       "  </tbody>\n",
       "</table>\n",
       "</div>"
      ],
      "text/plain": [
       "     Time                                                Log  Cat  Pred\n",
       "400  1530  T441 BOIP approaching R50-2, TO completing Aux...    7     7\n",
       "401  1531  T441 approaching R50-2 stopped with a BOIP, tr...    7     7\n",
       "402  1532                   T227 no ATO doors at S20-2, 311.    5     5\n",
       "403  1534  T441 reports they are moving ATO after the AUX...    7     7\n",
       "404  1536  T449 M20-2 door open, instructed to do a coupl...    7     7"
      ]
     },
     "execution_count": 63,
     "metadata": {},
     "output_type": "execute_result"
    }
   ],
   "source": [
    "labeled_df[400:].head(5)"
   ]
  },
  {
   "cell_type": "code",
   "execution_count": 64,
   "id": "23a0917c-11ac-4673-abdf-e09263cf6cd5",
   "metadata": {},
   "outputs": [
    {
     "data": {
      "image/png": "[encoded data removed]",
      "text/plain": [
       "<Figure size 432x288 with 2 Axes>"
      ]
     },
     "metadata": {
      "needs_background": "light"
     },
     "output_type": "display_data"
    }
   ],
   "source": [
    "from sklearn.metrics import confusion_matrix, ConfusionMatrixDisplay\n",
    "cm = confusion_matrix(labeled_df['Cat'], labeled_df['Pred'])\n",
    "disp = ConfusionMatrixDisplay(confusion_matrix=cm)\n",
    "disp.plot()\n",
    "plt.show()"
   ]
  },
  {
   "cell_type": "code",
   "execution_count": 65,
   "id": "fbf4e9fd-d086-4e2d-baeb-dea4d51fb63d",
   "metadata": {},
   "outputs": [
    {
     "data": {
      "text/plain": [
       "<AxesSubplot:>"
      ]
     },
     "execution_count": 65,
     "metadata": {},
     "output_type": "execute_result"
    },
    {
     "data": {
      "image/png": "[encoded data removed]",
      "text/plain": [
       "<Figure size 1440x864 with 2 Axes>"
      ]
     },
     "metadata": {
      "needs_background": "light"
     },
     "output_type": "display_data"
    }
   ],
   "source": [
    "import seaborn as sns\n",
    "plt.figure(figsize = (20,12))\n",
    "sns.heatmap(cm/np.sum(cm), annot=True, \n",
    "            fmt='10%', cmap='Blues')\n"
   ]
  },
  {
   "cell_type": "code",
   "execution_count": null,
   "id": "163acef9-006b-4c8c-9a75-92b212140f2a",
   "metadata": {},
   "outputs": [],
   "source": []
  }
 ],
 "metadata": {
  "kernelspec": {
   "display_name": "py38_default",
   "language": "python",
   "name": "conda-env-py38_default-py"
  },
  "language_info": {
   "codemirror_mode": {
    "name": "ipython",
    "version": 3
   },
   "file_extension": ".py",
   "mimetype": "text/x-python",
   "name": "python",
   "nbconvert_exporter": "python",
   "pygments_lexer": "ipython3",
   "version": "3.8.11"
  }
 },
 "nbformat": 4,
 "nbformat_minor": 5
}
