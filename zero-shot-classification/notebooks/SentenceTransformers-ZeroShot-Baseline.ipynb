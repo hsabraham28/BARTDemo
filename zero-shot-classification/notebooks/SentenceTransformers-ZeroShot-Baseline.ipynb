{
 "cells": [
  {
   "cell_type": "markdown",
   "metadata": {},
   "source": [
    "# Zero-Shot Event Classification"
   ]
  },
  {
   "cell_type": "code",
   "execution_count": 75,
   "metadata": {},
   "outputs": [],
   "source": [
    "import json\n",
    "import torch\n",
    "import numpy as np\n",
    "from sklearn.metrics import precision_recall_fscore_support\n",
    "from sentence_transformers import SentenceTransformer, util\n",
    "\n",
    "def read_dataset(path):\n",
    "    \"\"\"Load tsv dataset from CASE 2021 shared task.\"\"\"\n",
    "    with open(path, encoding=\"utf8\") as f:\n",
    "        dataset = []\n",
    "        for line in list(f)[1:]:\n",
    "            id, text, label = line.strip().split(\"\\t\")\n",
    "            item = {\n",
    "                \"id\": id, \"text\": text, \"label\": label\n",
    "            }\n",
    "            dataset.append(item)\n",
    "    return dataset"
   ]
  },
  {
   "cell_type": "markdown",
   "metadata": {},
   "source": [
    "## Prepare Dataset and Labels\n",
    "\n",
    "We first load the following data from the CASE 2021 Fine Grained Event classification shared task\n",
    "* `test_set_final_release_with_labels.tsv`: The test dataset, containing event descriptions and their labels\n",
    "* `label_to_description.json`: A mapping between between labels and label descriptions"
   ]
  },
  {
   "cell_type": "code",
   "execution_count": 76,
   "metadata": {},
   "outputs": [],
   "source": [
    "dataset = read_dataset(\"data/test_set_final_release_with_labels.tsv\")\n",
    "\n",
    "with open(\"data/label_to_description.json\") as f:\n",
    "    label_to_description = json.load(f)"
   ]
  },
  {
   "cell_type": "markdown",
   "metadata": {},
   "source": [
    "By \"label description\" we mean a string of text that represents the meaning of a label that we want to be able to predict. In zero-shot learning, these descriptions can replace ground-truth labeled examples for a class. \n",
    "\n",
    "The original label descriptions in the ACLED event classification taxonomy are short phrases describing each concept:"
   ]
  },
  {
   "cell_type": "code",
   "execution_count": 77,
   "metadata": {},
   "outputs": [
    {
     "data": {
      "text/plain": [
       "{'ABDUCT_DISSAP': 'Abduction/forced disappearance',\n",
       " 'AGREEMENT': 'Agreement',\n",
       " 'AIR_STRIKE': 'Air/drone strike',\n",
       " 'ARMED_CLASH': 'Armed clash',\n",
       " 'ARREST': 'Arrests',\n",
       " 'ART_MISS_ATTACK': 'Shelling/artillery/missile attack',\n",
       " 'ATTACK': 'Attack',\n",
       " 'ATTRIB': 'Attribution of responsibility',\n",
       " 'CHANGE_TO_GROUP_ACT': 'Change to group/activity',\n",
       " 'CHEM_WEAP': 'Chemical weapon',\n",
       " 'DIPLO': 'Diplomatic event',\n",
       " 'DISR_WEAP': 'Disrupted weapons use',\n",
       " 'FORCE_AGAINST_PROTEST': 'Excessive force against protesters',\n",
       " 'GOV_REGAINS_TERIT': 'Government regains territory',\n",
       " 'GRENADE': 'Grenade',\n",
       " 'HQ_ESTABLISHED': 'Headquarters or base established',\n",
       " 'MAN_MADE_DISASTER': 'Man-made disaster',\n",
       " 'MOB_VIOL': 'Mob violence',\n",
       " 'NATURAL_DISASTER': 'Natural disaster',\n",
       " 'NON_STATE_ACTOR_OVERTAKES_TER': 'Non-state actor overtakes territory',\n",
       " 'NON_VIOL_TERRIT_TRANSFER': 'Non-violent transfer of territory',\n",
       " 'ORG_CRIME': 'Organized crime',\n",
       " 'OTHER': 'Other',\n",
       " 'PEACE_PROTEST': 'Peaceful protest',\n",
       " 'PROPERTY_DISTRUCT': 'Looting/property destruction',\n",
       " 'PROTEST_WITH_INTER': 'Protest with intervention',\n",
       " 'REM_EXPLOS': 'Remote explosive/landmine/IED',\n",
       " 'SEX_VIOL': 'Sexual violence',\n",
       " 'SUIC_BOMB': 'Suicide bomb',\n",
       " 'VIOL_DEMONSTR': 'Violent demonstration'}"
      ]
     },
     "execution_count": 77,
     "metadata": {},
     "output_type": "execute_result"
    }
   ],
   "source": [
    "label_to_description"
   ]
  },
  {
   "cell_type": "markdown",
   "metadata": {},
   "source": [
    "Let's now extract the useful bits from the shared task files that we'll need later for classification and evaluation:"
   ]
  },
  {
   "cell_type": "code",
   "execution_count": 78,
   "metadata": {},
   "outputs": [],
   "source": [
    "texts = [x[\"text\"] for x in dataset]\n",
    "y_true = [x[\"label\"] for x in dataset]\n",
    "\n",
    "label_names = sorted(label_to_description)\n",
    "label_descriptions = [label_to_description[l] for l in label_names]"
   ]
  },
  {
   "cell_type": "markdown",
   "metadata": {},
   "source": [
    "### Zero Shot Labels\n",
    "\n",
    "The following subset of labels is used for a zero-shot evaluation in the CASE 2021 shared task. Note that we treat all labels in a zero-shot fashion, but for the purposes of the shared task we will do separate experiments on this subset to in order to compare results with other submissions in the shared task."
   ]
  },
  {
   "cell_type": "code",
   "execution_count": 79,
   "metadata": {},
   "outputs": [],
   "source": [
    "zero_shot_labels = [\"ORG_CRIME\", \"NATURAL_DISASTER\", \"MAN_MADE_DISASTER\", \"DIPLO\", \"ATTRIB\"]"
   ]
  },
  {
   "cell_type": "code",
   "execution_count": 80,
   "metadata": {},
   "outputs": [],
   "source": [
    "texts_zs, y_true_zs = zip(*[(text, label) for text, label in zip(texts, y_true) if label in zero_shot_labels])"
   ]
  },
  {
   "cell_type": "markdown",
   "metadata": {},
   "source": [
    "## Implementing Simple Zero-Shot Classifier\n",
    "\n",
    "Our approach in a nutshell:\n",
    "* We use a sentence encoder from `sentence-transformers` to convert both label descriptions and texts to predict into embeddings that live in the same embedding space.\n",
    "* At test time, we embed a new text and compare it to each label embedding via cosine similarity.\n",
    "* We assign the label with the highest similarity to the item.\n",
    "* Optionally, we define a minimum similarity threshold that a label needs to pass. If no label passes this threshold, we assign the \"OTHER\" class.\n"
   ]
  },
  {
   "cell_type": "code",
   "execution_count": 81,
   "metadata": {},
   "outputs": [],
   "source": [
    "class ZeroShotClassifier:\n",
    "    \n",
    "    def __init__(self, model=None, threshold=None, null_label=\"OTHER\"):\n",
    "        self.model = model\n",
    "        self.labels = []\n",
    "        self.label_embeddings = None\n",
    "        self.threshold = threshold\n",
    "        self.null_label = null_label\n",
    "    \n",
    "    def train(self, labels, descriptions):\n",
    "        self.labels = labels\n",
    "        self.label_embeddings = model.encode(descriptions)\n",
    "    \n",
    "    def predict(self, input_texts=None, input_embeddings=None, output_scores=False):\n",
    "        \n",
    "        if input_embeddings is None:\n",
    "            input_embeddings = self.model.encode(input_texts)\n",
    "            \n",
    "        S = util.pytorch_cos_sim(input_embeddings, self.label_embeddings)\n",
    "        \n",
    "        predicted_labels = []\n",
    "        predicted_scores = []\n",
    "        for i in range(input_embeddings.shape[0]):\n",
    "            label_scores = S[i].tolist()\n",
    "            scored = sorted(\n",
    "                zip(self.labels, label_scores),\n",
    "                key=lambda x: x[1],\n",
    "                reverse=True\n",
    "            )\n",
    "            pred, score = scored[0]\n",
    "            if self.threshold is not None and score < self.threshold:\n",
    "                pred = self.null_label\n",
    "                \n",
    "            predicted_scores.append(scored)\n",
    "            predicted_labels.append(pred)        \n",
    "        \n",
    "        if output_scores:\n",
    "            return predicted_labels, predicted_scores\n",
    "        else:\n",
    "            return predicted_labels"
   ]
  },
  {
   "cell_type": "markdown",
   "metadata": {},
   "source": [
    "## Initializing Classifier"
   ]
  },
  {
   "cell_type": "code",
   "execution_count": 82,
   "metadata": {},
   "outputs": [],
   "source": [
    "device = \"cpu\" # set as \"cuda\" instead if you have a GPU set up\n",
    "# the first time this line runs the model will be downloaded \n",
    "model = SentenceTransformer(\"paraphrase-mpnet-base-v2\", device=device)"
   ]
  },
  {
   "cell_type": "code",
   "execution_count": 83,
   "metadata": {},
   "outputs": [],
   "source": [
    "zs_classifier = ZeroShotClassifier(model=model)\n",
    "zs_classifier.train(labels=label_names, descriptions=label_descriptions)"
   ]
  },
  {
   "cell_type": "markdown",
   "metadata": {},
   "source": [
    "## Predicting and Evaluating Labels"
   ]
  },
  {
   "cell_type": "code",
   "execution_count": 84,
   "metadata": {},
   "outputs": [],
   "source": [
    "def evaluate(true_labels, pred_labels, label_set=None):\n",
    "    for avg in [\"micro\", \"macro\", \"weighted\"]:        \n",
    "        p, r, f, _ = precision_recall_fscore_support(\n",
    "            true_labels, pred_labels,\n",
    "            average=avg, labels=label_set, zero_division=0\n",
    "        )\n",
    "        gap = \" \" * (9 - len(avg))\n",
    "        print(f\"{avg}{gap}precision: {p:.3f}, recall: {r:.3f}, f-score: {f:.3f}\")"
   ]
  },
  {
   "cell_type": "code",
   "execution_count": 85,
   "metadata": {},
   "outputs": [],
   "source": [
    "predicted_labels = zs_classifier.predict(input_texts=texts)"
   ]
  },
  {
   "cell_type": "code",
   "execution_count": 86,
   "metadata": {},
   "outputs": [],
   "source": [
    "# remember, as mentioned above, we're doing zero-shot classification everywhere\n",
    "# in this system, but we separated the label sets to fit the shared-task evaluation \n",
    "# setup\n",
    "predicted_labels_zs = zs_classifier.predict(input_texts=texts_zs)"
   ]
  },
  {
   "cell_type": "markdown",
   "metadata": {},
   "source": [
    "Evaluation on the entire test set:"
   ]
  },
  {
   "cell_type": "code",
   "execution_count": 87,
   "metadata": {},
   "outputs": [
    {
     "name": "stdout",
     "output_type": "stream",
     "text": [
      "micro    precision: 0.520, recall: 0.520, f-score: 0.520\n",
      "macro    precision: 0.528, recall: 0.495, f-score: 0.461\n",
      "weighted precision: 0.569, recall: 0.520, f-score: 0.489\n"
     ]
    }
   ],
   "source": [
    "evaluate(y_true, predicted_labels)"
   ]
  },
  {
   "cell_type": "markdown",
   "metadata": {},
   "source": [
    "Evaluating only on subset of the labels that is used for zero-shot in the shared task:"
   ]
  },
  {
   "cell_type": "code",
   "execution_count": 88,
   "metadata": {},
   "outputs": [
    {
     "name": "stdout",
     "output_type": "stream",
     "text": [
      "micro    precision: 0.840, recall: 0.358, f-score: 0.502\n",
      "macro    precision: 0.914, recall: 0.383, f-score: 0.477\n",
      "weighted precision: 0.920, recall: 0.358, f-score: 0.443\n"
     ]
    }
   ],
   "source": [
    "evaluate(y_true_zs, predicted_labels_zs, label_set=zero_shot_labels)"
   ]
  },
  {
   "cell_type": "markdown",
   "metadata": {},
   "source": [
    "While there is room for improvement, these results are pretty good given that we didn't use any training data at all!"
   ]
  },
  {
   "cell_type": "markdown",
   "metadata": {},
   "source": [
    "## Bonus: Building your own Zero-Shot Classifier"
   ]
  },
  {
   "cell_type": "markdown",
   "metadata": {},
   "source": [
    "You can build a custom zero-shot classifier in a few lines of code!\n",
    "\n",
    "Let's say we're interested in a small number of natural disasters mentioned in news headlines: earthquakes, wildfires and floods. <br>\n",
    "We want our classifier to detect and classify these and label everything else as \"OTHER\".\n",
    "\n",
    "To do this, we set our classifier up with embeddings of very simple label descriptions (\"earthquake\", \"wildfire\", \"floods\"):"
   ]
  },
  {
   "cell_type": "code",
   "execution_count": 89,
   "metadata": {},
   "outputs": [],
   "source": [
    "my_classifier = ZeroShotClassifier(\n",
    "    model=model,\n",
    "    threshold=0.3,    \n",
    "    null_label=\"OTHER\"\n",
    ")\n",
    "\n",
    "my_classifier.train(\n",
    "    labels=[\"EARTHQUAKE\", \"WILDFIRE\", \"FLOODS\"],\n",
    "    descriptions=[\"earthquake\", \"wildfire\", \"floods\"]\n",
    ")"
   ]
  },
  {
   "cell_type": "markdown",
   "metadata": {},
   "source": [
    "Let's apply the classifier to some examples:"
   ]
  },
  {
   "cell_type": "code",
   "execution_count": 90,
   "metadata": {},
   "outputs": [
    {
     "data": {
      "text/plain": [
       "['FLOODS', 'WILDFIRE', 'EARTHQUAKE', 'OTHER', 'OTHER']"
      ]
     },
     "execution_count": 90,
     "metadata": {},
     "output_type": "execute_result"
    }
   ],
   "source": [
    "my_classifier.predict([\n",
    "    \"Death toll from Hurricane Ida floods rises to 65 in US\",\n",
    "    \"As California burns, some ecologists say it’s time to rethink forest management\",\n",
    "    \"Maharashtra: Tremor in Kolhapur, no casualty\",\n",
    "    \"Leaked Guntrader firearms data file shared. Worst case scenario?\",\n",
    "    \"Taliban take control of last holdout in Panjshir Valley\"\n",
    "])"
   ]
  },
  {
   "cell_type": "markdown",
   "metadata": {},
   "source": [
    "Results look good!\n",
    "\n",
    "The test examples for `WILDFIRE` and `EARTHQUAKE` above demonstrate that we can correctly classify based on semantic proximity rather than literal word match.\n",
    "\n",
    "This is not going to work perfectly in all cases! But it's a good start for 1 minute of effort. To improve this approach you can tweak the label descriptions and the threshold. \n",
    "\n",
    "You can also use this approach to mine examples for each class you're interested for later manual verification, to build a dataset of ground-truth examples."
   ]
  },
  {
   "cell_type": "markdown",
   "metadata": {},
   "source": [
    "#### Another example with fine-grained event types"
   ]
  },
  {
   "cell_type": "code",
   "execution_count": 91,
   "metadata": {},
   "outputs": [],
   "source": [
    "my_classifier = ZeroShotClassifier(\n",
    "    model=model,\n",
    "    threshold=0.2,    \n",
    "    null_label=\"OTHER\"\n",
    ")\n",
    "\n",
    "my_classifier.train(\n",
    "    labels=[\"COMP-ACQUISITION\", \"STAKE-ACQUISITION\"],\n",
    "    descriptions=[\n",
    "        \"Company acquires other company\",\n",
    "        \"Company buys stocks/stake in other company\"\n",
    "    ]\n",
    ")"
   ]
  },
  {
   "cell_type": "code",
   "execution_count": 92,
   "metadata": {},
   "outputs": [
    {
     "data": {
      "text/plain": [
       "['STAKE-ACQUISITION',\n",
       " 'STAKE-ACQUISITION',\n",
       " 'STAKE-ACQUISITION',\n",
       " 'COMP-ACQUISITION',\n",
       " 'COMP-ACQUISITION',\n",
       " 'COMP-ACQUISITION']"
      ]
     },
     "execution_count": 92,
     "metadata": {},
     "output_type": "execute_result"
    }
   ],
   "source": [
    "my_classifier.predict([\n",
    "    \"Galetech Group buys majority stake in Optinergy\",\n",
    "    \"SoftBank acquires minor stake in Deutsche Telekom in new 'long-term partnership'\",\n",
    "    \"EQT buys stake in Sweden's Storytel, becomes second largest shareholder\",\n",
    "    \"UK’s Digital 9 Infrastructure acquires Verne Global for €269.1M; here’s why\",\n",
    "    \"French technology company Lectra acquires Gemini CAD systems\",\n",
    "    \"Quercus buys Arcadia Books as Bielenberg named publisher\",\n",
    "])"
   ]
  },
  {
   "cell_type": "code",
   "execution_count": null,
   "metadata": {},
   "outputs": [],
   "source": []
  },
  {
   "cell_type": "code",
   "execution_count": 93,
   "metadata": {},
   "outputs": [
    {
     "data": {
      "text/html": [
       "<div>\n",
       "<style scoped>\n",
       "    .dataframe tbody tr th:only-of-type {\n",
       "        vertical-align: middle;\n",
       "    }\n",
       "\n",
       "    .dataframe tbody tr th {\n",
       "        vertical-align: top;\n",
       "    }\n",
       "\n",
       "    .dataframe thead th {\n",
       "        text-align: right;\n",
       "    }\n",
       "</style>\n",
       "<table border=\"1\" class=\"dataframe\">\n",
       "  <thead>\n",
       "    <tr style=\"text-align: right;\">\n",
       "      <th></th>\n",
       "      <th>Time</th>\n",
       "      <th>Log</th>\n",
       "    </tr>\n",
       "  </thead>\n",
       "  <tbody>\n",
       "    <tr>\n",
       "      <th>0</th>\n",
       "      <td>1940</td>\n",
       "      <td>T451 no ATO doors at R30-2, 311.</td>\n",
       "    </tr>\n",
       "    <tr>\n",
       "      <th>1</th>\n",
       "      <td>1957</td>\n",
       "      <td>T507 A10-1 BPD hold for loud music</td>\n",
       "    </tr>\n",
       "    <tr>\n",
       "      <th>2</th>\n",
       "      <td>1957</td>\n",
       "      <td>T371 no ATO doors at M16-1, 311.</td>\n",
       "    </tr>\n",
       "    <tr>\n",
       "      <th>3</th>\n",
       "      <td>2000</td>\n",
       "      <td>Medic10 and Medic16 checked out</td>\n",
       "    </tr>\n",
       "    <tr>\n",
       "      <th>4</th>\n",
       "      <td>2003</td>\n",
       "      <td>T507 released ATO. 2 min delay</td>\n",
       "    </tr>\n",
       "    <tr>\n",
       "      <th>5</th>\n",
       "      <td>2004</td>\n",
       "      <td>T365 no ATO doors at M90-2, 311.</td>\n",
       "    </tr>\n",
       "    <tr>\n",
       "      <th>6</th>\n",
       "      <td>2022</td>\n",
       "      <td>T369 Y10-2 double dashes.\\r\\nNo call from Central</td>\n",
       "    </tr>\n",
       "    <tr>\n",
       "      <th>7</th>\n",
       "      <td>2033</td>\n",
       "      <td>T223 no ATO doors at S20-2, 311.</td>\n",
       "    </tr>\n",
       "    <tr>\n",
       "      <th>8</th>\n",
       "      <td>2052</td>\n",
       "      <td>T445 R10-1 possible medical emergency.TO to ch...</td>\n",
       "    </tr>\n",
       "    <tr>\n",
       "      <th>9</th>\n",
       "      <td>2055</td>\n",
       "      <td>A99 is at R10 and checking on the patron.</td>\n",
       "    </tr>\n",
       "  </tbody>\n",
       "</table>\n",
       "</div>"
      ],
      "text/plain": [
       "   Time                                                Log\n",
       "0  1940                   T451 no ATO doors at R30-2, 311.\n",
       "1  1957                 T507 A10-1 BPD hold for loud music\n",
       "2  1957                   T371 no ATO doors at M16-1, 311.\n",
       "3  2000                    Medic10 and Medic16 checked out\n",
       "4  2003                     T507 released ATO. 2 min delay\n",
       "5  2004                   T365 no ATO doors at M90-2, 311.\n",
       "6  2022  T369 Y10-2 double dashes.\\r\\nNo call from Central\n",
       "7  2033                   T223 no ATO doors at S20-2, 311.\n",
       "8  2052  T445 R10-1 possible medical emergency.TO to ch...\n",
       "9  2055          A99 is at R10 and checking on the patron."
      ]
     },
     "execution_count": 93,
     "metadata": {},
     "output_type": "execute_result"
    }
   ],
   "source": [
    "import pandas as pd \n",
    "\n",
    "df = pd.read_csv('unlabeled.csv')[['Time', 'Log']].head(100)\n",
    "df.head(10)"
   ]
  },
  {
   "cell_type": "code",
   "execution_count": 95,
   "metadata": {},
   "outputs": [
    {
     "data": {
      "text/html": [
       "<div>\n",
       "<style scoped>\n",
       "    .dataframe tbody tr th:only-of-type {\n",
       "        vertical-align: middle;\n",
       "    }\n",
       "\n",
       "    .dataframe tbody tr th {\n",
       "        vertical-align: top;\n",
       "    }\n",
       "\n",
       "    .dataframe thead th {\n",
       "        text-align: right;\n",
       "    }\n",
       "</style>\n",
       "<table border=\"1\" class=\"dataframe\">\n",
       "  <thead>\n",
       "    <tr style=\"text-align: right;\">\n",
       "      <th></th>\n",
       "      <th>Time</th>\n",
       "      <th>Log</th>\n",
       "      <th>Pred</th>\n",
       "    </tr>\n",
       "  </thead>\n",
       "  <tbody>\n",
       "    <tr>\n",
       "      <th>0</th>\n",
       "      <td>1940</td>\n",
       "      <td>T451 no ATO doors at R30-2, 311.</td>\n",
       "      <td>Mechanical</td>\n",
       "    </tr>\n",
       "    <tr>\n",
       "      <th>1</th>\n",
       "      <td>1957</td>\n",
       "      <td>T507 A10-1 BPD hold for loud music</td>\n",
       "      <td>OTHER</td>\n",
       "    </tr>\n",
       "    <tr>\n",
       "      <th>2</th>\n",
       "      <td>1957</td>\n",
       "      <td>T371 no ATO doors at M16-1, 311.</td>\n",
       "      <td>Mechanical</td>\n",
       "    </tr>\n",
       "    <tr>\n",
       "      <th>3</th>\n",
       "      <td>2000</td>\n",
       "      <td>Medic10 and Medic16 checked out</td>\n",
       "      <td>Medical</td>\n",
       "    </tr>\n",
       "    <tr>\n",
       "      <th>4</th>\n",
       "      <td>2003</td>\n",
       "      <td>T507 released ATO. 2 min delay</td>\n",
       "      <td>Delays</td>\n",
       "    </tr>\n",
       "    <tr>\n",
       "      <th>5</th>\n",
       "      <td>2004</td>\n",
       "      <td>T365 no ATO doors at M90-2, 311.</td>\n",
       "      <td>Mechanical</td>\n",
       "    </tr>\n",
       "    <tr>\n",
       "      <th>6</th>\n",
       "      <td>2022</td>\n",
       "      <td>T369 Y10-2 double dashes.\\r\\nNo call from Central</td>\n",
       "      <td>OTHER</td>\n",
       "    </tr>\n",
       "    <tr>\n",
       "      <th>7</th>\n",
       "      <td>2033</td>\n",
       "      <td>T223 no ATO doors at S20-2, 311.</td>\n",
       "      <td>Mechanical</td>\n",
       "    </tr>\n",
       "    <tr>\n",
       "      <th>8</th>\n",
       "      <td>2052</td>\n",
       "      <td>T445 R10-1 possible medical emergency.TO to ch...</td>\n",
       "      <td>Medical</td>\n",
       "    </tr>\n",
       "    <tr>\n",
       "      <th>9</th>\n",
       "      <td>2055</td>\n",
       "      <td>A99 is at R10 and checking on the patron.</td>\n",
       "      <td>OTHER</td>\n",
       "    </tr>\n",
       "    <tr>\n",
       "      <th>10</th>\n",
       "      <td>2059</td>\n",
       "      <td>Power outage in the area of Lafayette, trains ...</td>\n",
       "      <td>Police</td>\n",
       "    </tr>\n",
       "    <tr>\n",
       "      <th>11</th>\n",
       "      <td>2059</td>\n",
       "      <td>T445 released ATO, A99 was able to contact the...</td>\n",
       "      <td>OTHER</td>\n",
       "    </tr>\n",
       "    <tr>\n",
       "      <th>12</th>\n",
       "      <td>2107</td>\n",
       "      <td>Power and lighting restored at C30. Electricia...</td>\n",
       "      <td>OTHER</td>\n",
       "    </tr>\n",
       "    <tr>\n",
       "      <th>13</th>\n",
       "      <td>2150</td>\n",
       "      <td>T239 K10-2 BPD hold for a report of someone ex...</td>\n",
       "      <td>Medical</td>\n",
       "    </tr>\n",
       "    <tr>\n",
       "      <th>14</th>\n",
       "      <td>\\r\\n2154</td>\n",
       "      <td>T379 Y10-3 route was up for the train but the ...</td>\n",
       "      <td>Delays</td>\n",
       "    </tr>\n",
       "    <tr>\n",
       "      <th>15</th>\n",
       "      <td>2157</td>\n",
       "      <td>T239 released ATO, 8 minute delay. T337 delaye...</td>\n",
       "      <td>Delays</td>\n",
       "    </tr>\n",
       "    <tr>\n",
       "      <th>16</th>\n",
       "      <td>2200</td>\n",
       "      <td>C80 unstaffed.</td>\n",
       "      <td>OTHER</td>\n",
       "    </tr>\n",
       "    <tr>\n",
       "      <th>17</th>\n",
       "      <td>2200</td>\n",
       "      <td>T227 A10-2 BPD hold for a welfare check.</td>\n",
       "      <td>OTHER</td>\n",
       "    </tr>\n",
       "    <tr>\n",
       "      <th>18</th>\n",
       "      <td>2201</td>\n",
       "      <td>T509 no ATO doors at M50-1, 311.</td>\n",
       "      <td>Mechanical</td>\n",
       "    </tr>\n",
       "    <tr>\n",
       "      <th>19</th>\n",
       "      <td>2203</td>\n",
       "      <td>T507 M90-1 no ATO doors, Rule 311.</td>\n",
       "      <td>Mechanical</td>\n",
       "    </tr>\n",
       "    <tr>\n",
       "      <th>20</th>\n",
       "      <td>2204</td>\n",
       "      <td>T227 released ATO, 2 minute delay.</td>\n",
       "      <td>OTHER</td>\n",
       "    </tr>\n",
       "    <tr>\n",
       "      <th>21</th>\n",
       "      <td>2212</td>\n",
       "      <td>T233 A50-1 made a whistle stop at OHY, no cont...</td>\n",
       "      <td>OTHER</td>\n",
       "    </tr>\n",
       "    <tr>\n",
       "      <th>22</th>\n",
       "      <td>2222</td>\n",
       "      <td>T337 M50-1 no ATO doors, Rule 311.</td>\n",
       "      <td>Mechanical</td>\n",
       "    </tr>\n",
       "    <tr>\n",
       "      <th>23</th>\n",
       "      <td>2227</td>\n",
       "      <td>T223 K10-2 BPD hold for them to board someone.</td>\n",
       "      <td>Mechanical</td>\n",
       "    </tr>\n",
       "    <tr>\n",
       "      <th>24</th>\n",
       "      <td>2240</td>\n",
       "      <td>T223 released ATO, 3 minute delay.</td>\n",
       "      <td>OTHER</td>\n",
       "    </tr>\n",
       "    <tr>\n",
       "      <th>25</th>\n",
       "      <td>2247</td>\n",
       "      <td>T107 A10-1 BPD hold for a disturbance on board.</td>\n",
       "      <td>Medical</td>\n",
       "    </tr>\n",
       "    <tr>\n",
       "      <th>26</th>\n",
       "      <td>2253</td>\n",
       "      <td>T107 released ATO, 5 minute delay.</td>\n",
       "      <td>OTHER</td>\n",
       "    </tr>\n",
       "    <tr>\n",
       "      <th>27</th>\n",
       "      <td>2310</td>\n",
       "      <td>T400 event train in service R20 to M90 for the...</td>\n",
       "      <td>OTHER</td>\n",
       "    </tr>\n",
       "    <tr>\n",
       "      <th>28</th>\n",
       "      <td>2325</td>\n",
       "      <td>T223 S20-2 no ATO doors, Rule 311.</td>\n",
       "      <td>Mechanical</td>\n",
       "    </tr>\n",
       "    <tr>\n",
       "      <th>29</th>\n",
       "      <td>2325</td>\n",
       "      <td>T241 A40-2 BPD hold for an outside agency requ...</td>\n",
       "      <td>OTHER</td>\n",
       "    </tr>\n",
       "    <tr>\n",
       "      <th>30</th>\n",
       "      <td>2329</td>\n",
       "      <td>T241 released ATO, 3 minute delay.</td>\n",
       "      <td>OTHER</td>\n",
       "    </tr>\n",
       "    <tr>\n",
       "      <th>31</th>\n",
       "      <td>2330</td>\n",
       "      <td>T505 A40-2 BPD hold for an outside agency assist.</td>\n",
       "      <td>Medical</td>\n",
       "    </tr>\n",
       "    <tr>\n",
       "      <th>32</th>\n",
       "      <td>2339</td>\n",
       "      <td>T505 released ATO, 10 minute delay.</td>\n",
       "      <td>OTHER</td>\n",
       "    </tr>\n",
       "    <tr>\n",
       "      <th>33</th>\n",
       "      <td>\\r\\n0023</td>\n",
       "      <td>Patron walked into the TBT on the M1 track and...</td>\n",
       "      <td>Delays</td>\n",
       "    </tr>\n",
       "    <tr>\n",
       "      <th>34</th>\n",
       "      <td>32</td>\n",
       "      <td>Officers have a suspect on the platform at M16...</td>\n",
       "      <td>Police</td>\n",
       "    </tr>\n",
       "    <tr>\n",
       "      <th>35</th>\n",
       "      <td>40</td>\n",
       "      <td>T400 (earlier event train, swept with no passe...</td>\n",
       "      <td>Mechanical</td>\n",
       "    </tr>\n",
       "    <tr>\n",
       "      <th>36</th>\n",
       "      <td>49</td>\n",
       "      <td>T235 A90-1 BPD hold for a sweep.</td>\n",
       "      <td>OTHER</td>\n",
       "    </tr>\n",
       "    <tr>\n",
       "      <th>37</th>\n",
       "      <td>50</td>\n",
       "      <td>T400 clear of work orders, all BPD officers ar...</td>\n",
       "      <td>OTHER</td>\n",
       "    </tr>\n",
       "    <tr>\n",
       "      <th>38</th>\n",
       "      <td>52</td>\n",
       "      <td>T235 released ATO, 3 minute delay.</td>\n",
       "      <td>OTHER</td>\n",
       "    </tr>\n",
       "    <tr>\n",
       "      <th>39</th>\n",
       "      <td>58</td>\n",
       "      <td>Final trains released ATO from K30 by the agen...</td>\n",
       "      <td>OTHER</td>\n",
       "    </tr>\n",
       "    <tr>\n",
       "      <th>40</th>\n",
       "      <td>130</td>\n",
       "      <td>T239 A90-1 BPD hold for a sweep.</td>\n",
       "      <td>OTHER</td>\n",
       "    </tr>\n",
       "    <tr>\n",
       "      <th>41</th>\n",
       "      <td>145</td>\n",
       "      <td>T239 released ATO.</td>\n",
       "      <td>OTHER</td>\n",
       "    </tr>\n",
       "    <tr>\n",
       "      <th>42</th>\n",
       "      <td>150</td>\n",
       "      <td>EOR.</td>\n",
       "      <td>OTHER</td>\n",
       "    </tr>\n",
       "    <tr>\n",
       "      <th>43</th>\n",
       "      <td>Time</td>\n",
       "      <td>Log</td>\n",
       "      <td>OTHER</td>\n",
       "    </tr>\n",
       "    <tr>\n",
       "      <th>44</th>\n",
       "      <td>200</td>\n",
       "      <td>Blankets will come back 30 minutes earlier to ...</td>\n",
       "      <td>OTHER</td>\n",
       "    </tr>\n",
       "    <tr>\n",
       "      <th>45</th>\n",
       "      <td>216</td>\n",
       "      <td>W-Line Blanket established.</td>\n",
       "      <td>OTHER</td>\n",
       "    </tr>\n",
       "    <tr>\n",
       "      <th>46</th>\n",
       "      <td>348</td>\n",
       "      <td>W-Line Blanket released.</td>\n",
       "      <td>OTHER</td>\n",
       "    </tr>\n",
       "    <tr>\n",
       "      <th>47</th>\n",
       "      <td>354</td>\n",
       "      <td>R-Line Blanket released back to Central.</td>\n",
       "      <td>OTHER</td>\n",
       "    </tr>\n",
       "    <tr>\n",
       "      <th>48</th>\n",
       "      <td>363</td>\n",
       "      <td>T101 (6) minutes late departing M16-2, compoun...</td>\n",
       "      <td>Delays</td>\n",
       "    </tr>\n",
       "    <tr>\n",
       "      <th>49</th>\n",
       "      <td>\\r\\n0400</td>\n",
       "      <td>CAR COUNT\\r\\n\\r\\nA’s:  50   B’s: 333\\tC’s:  16...</td>\n",
       "      <td>OTHER</td>\n",
       "    </tr>\n",
       "  </tbody>\n",
       "</table>\n",
       "</div>"
      ],
      "text/plain": [
       "        Time                                                Log        Pred\n",
       "0       1940                   T451 no ATO doors at R30-2, 311.  Mechanical\n",
       "1       1957                 T507 A10-1 BPD hold for loud music       OTHER\n",
       "2       1957                   T371 no ATO doors at M16-1, 311.  Mechanical\n",
       "3       2000                    Medic10 and Medic16 checked out     Medical\n",
       "4       2003                     T507 released ATO. 2 min delay      Delays\n",
       "5       2004                   T365 no ATO doors at M90-2, 311.  Mechanical\n",
       "6       2022  T369 Y10-2 double dashes.\\r\\nNo call from Central       OTHER\n",
       "7       2033                   T223 no ATO doors at S20-2, 311.  Mechanical\n",
       "8       2052  T445 R10-1 possible medical emergency.TO to ch...     Medical\n",
       "9       2055          A99 is at R10 and checking on the patron.       OTHER\n",
       "10      2059  Power outage in the area of Lafayette, trains ...      Police\n",
       "11      2059  T445 released ATO, A99 was able to contact the...       OTHER\n",
       "12      2107  Power and lighting restored at C30. Electricia...       OTHER\n",
       "13      2150  T239 K10-2 BPD hold for a report of someone ex...     Medical\n",
       "14  \\r\\n2154  T379 Y10-3 route was up for the train but the ...      Delays\n",
       "15      2157  T239 released ATO, 8 minute delay. T337 delaye...      Delays\n",
       "16      2200                                     C80 unstaffed.       OTHER\n",
       "17      2200           T227 A10-2 BPD hold for a welfare check.       OTHER\n",
       "18      2201                   T509 no ATO doors at M50-1, 311.  Mechanical\n",
       "19      2203                 T507 M90-1 no ATO doors, Rule 311.  Mechanical\n",
       "20      2204                 T227 released ATO, 2 minute delay.       OTHER\n",
       "21      2212  T233 A50-1 made a whistle stop at OHY, no cont...       OTHER\n",
       "22      2222                 T337 M50-1 no ATO doors, Rule 311.  Mechanical\n",
       "23      2227     T223 K10-2 BPD hold for them to board someone.  Mechanical\n",
       "24      2240                 T223 released ATO, 3 minute delay.       OTHER\n",
       "25      2247    T107 A10-1 BPD hold for a disturbance on board.     Medical\n",
       "26      2253                 T107 released ATO, 5 minute delay.       OTHER\n",
       "27      2310  T400 event train in service R20 to M90 for the...       OTHER\n",
       "28      2325                 T223 S20-2 no ATO doors, Rule 311.  Mechanical\n",
       "29      2325  T241 A40-2 BPD hold for an outside agency requ...       OTHER\n",
       "30      2329                 T241 released ATO, 3 minute delay.       OTHER\n",
       "31      2330  T505 A40-2 BPD hold for an outside agency assist.     Medical\n",
       "32      2339                T505 released ATO, 10 minute delay.       OTHER\n",
       "33  \\r\\n0023  Patron walked into the TBT on the M1 track and...      Delays\n",
       "34        32  Officers have a suspect on the platform at M16...      Police\n",
       "35        40  T400 (earlier event train, swept with no passe...  Mechanical\n",
       "36        49                   T235 A90-1 BPD hold for a sweep.       OTHER\n",
       "37        50  T400 clear of work orders, all BPD officers ar...       OTHER\n",
       "38        52                 T235 released ATO, 3 minute delay.       OTHER\n",
       "39        58  Final trains released ATO from K30 by the agen...       OTHER\n",
       "40       130                   T239 A90-1 BPD hold for a sweep.       OTHER\n",
       "41       145                                 T239 released ATO.       OTHER\n",
       "42       150                                               EOR.       OTHER\n",
       "43      Time                                                Log       OTHER\n",
       "44       200  Blankets will come back 30 minutes earlier to ...       OTHER\n",
       "45       216                        W-Line Blanket established.       OTHER\n",
       "46       348                           W-Line Blanket released.       OTHER\n",
       "47       354           R-Line Blanket released back to Central.       OTHER\n",
       "48       363  T101 (6) minutes late departing M16-2, compoun...      Delays\n",
       "49  \\r\\n0400  CAR COUNT\\r\\n\\r\\nA’s:  50   B’s: 333\\tC’s:  16...       OTHER"
      ]
     },
     "execution_count": 95,
     "metadata": {},
     "output_type": "execute_result"
    }
   ],
   "source": [
    "my_classifier = ZeroShotClassifier(\n",
    "    model=model,\n",
    "    threshold=0.3,    \n",
    "    null_label=\"OTHER\"\n",
    ")\n",
    "\n",
    "my_classifier.train(\n",
    "    labels=[\"Medical\", \"Police\", 'Delays', 'Mechanical'],\n",
    "    descriptions=[\n",
    "        \"medical emergency or injury\",\n",
    "        \"police activity or disturbances\",\n",
    "        \"delays or late departure\",\n",
    "        \"Doors not working or mechanical failure\"\n",
    "    ]\n",
    ")\n",
    "\n",
    "pred = my_classifier.predict(\n",
    "    df['Log'].tolist()\n",
    ")\n",
    "df['Pred'] = pred\n",
    "df.head(50)"
   ]
  },
  {
   "cell_type": "code",
   "execution_count": null,
   "metadata": {},
   "outputs": [],
   "source": []
  },
  {
   "cell_type": "code",
   "execution_count": null,
   "metadata": {},
   "outputs": [],
   "source": []
  }
 ],
 "metadata": {
  "kernelspec": {
   "display_name": "Python 3",
   "language": "python",
   "name": "python3"
  },
  "language_info": {
   "codemirror_mode": {
    "name": "ipython",
    "version": 3
   },
   "file_extension": ".py",
   "mimetype": "text/x-python",
   "name": "python",
   "nbconvert_exporter": "python",
   "pygments_lexer": "ipython3",
   "version": "3.8.5"
  }
 },
 "nbformat": 4,
 "nbformat_minor": 4
}
