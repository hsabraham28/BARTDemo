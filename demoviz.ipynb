{
 "cells": [
  {
   "cell_type": "code",
   "execution_count": null,
   "metadata": {},
   "outputs": [],
   "source": [
    "import pandas as pd\n",
    "import numpy as np\n",
    "from IPython import display\n",
    "from matplotlib import image\n",
    "from matplotlib import pyplot as plt\n",
    "from matplotlib.pyplot import figure\n",
    "import ipywidgets as widgets\n",
    "%matplotlib notebook\n",
    "from ipywidgets import *\n",
    "import matplotlib.pyplot as pltp\n",
    "%matplotlib inline"
   ]
  },
  {
   "cell_type": "code",
   "execution_count": null,
   "metadata": {},
   "outputs": [],
   "source": [
    "stationlocs = pd.read_csv(\"assets/BARTLocationPercentages.csv\")\n",
    "stationlocs.head(5)"
   ]
  },
  {
   "cell_type": "code",
   "execution_count": null,
   "metadata": {},
   "outputs": [],
   "source": [
    "vizpic = display.Image(\"assets/BARTtracksmap.png\")\n",
    "picdata = image.imread('assets/BARTtracksmap.png')"
   ]
  },
  {
   "cell_type": "code",
   "execution_count": null,
   "metadata": {},
   "outputs": [],
   "source": [
    "testlog = pd.read_csv(\"occ-log-classification/csv/labeled.csv\").head(60)\n",
    "testlog.head(5)"
   ]
  },
  {
   "cell_type": "code",
   "execution_count": null,
   "metadata": {},
   "outputs": [],
   "source": [
    "station_list = (stationlocs['Station_Name']).tolist()\n",
    "s_abbrv = [station[:3] for station in station_list]"
   ]
  },
  {
   "cell_type": "code",
   "execution_count": null,
   "metadata": {},
   "outputs": [],
   "source": [
    "def lookfornames(c):\n",
    "    for s in s_abbrv:\n",
    "        if s in c:\n",
    "            return s\n",
    "        \n",
    "stationlocs['Location'] = testlog[\"Log\"].apply(lookfornames)\n",
    "testlog['Location'] = testlog[\"Log\"].apply(lookfornames)"
   ]
  },
  {
   "cell_type": "code",
   "execution_count": null,
   "metadata": {},
   "outputs": [],
   "source": [
    "stationlocs.head(10)"
   ]
  },
  {
   "cell_type": "code",
   "execution_count": null,
   "metadata": {},
   "outputs": [],
   "source": [
    "justxandy = stationlocs.drop(columns=['Station_Name', 'Rain_Critical', 'Asset_Location'])\n",
    "justxandy.head(5)"
   ]
  },
  {
   "cell_type": "code",
   "execution_count": null,
   "metadata": {},
   "outputs": [],
   "source": [
    "merged = testlog.merge(justxandy.set_index('Location'), on='Location')\n",
    "merged.head(5)"
   ]
  },
  {
   "cell_type": "code",
   "execution_count": null,
   "metadata": {},
   "outputs": [],
   "source": [
    "merged['dupped'] = merged.duplicated(subset=['Log'])\n",
    "merged = merged[merged.dupped != True]"
   ]
  },
  {
   "cell_type": "code",
   "execution_count": null,
   "metadata": {},
   "outputs": [],
   "source": [
    "vizdata = merged.drop(columns=['dupped'])"
   ]
  },
  {
   "cell_type": "code",
   "execution_count": null,
   "metadata": {},
   "outputs": [],
   "source": [
    "from tensorflow import keras\n",
    "model = keras.models.load_model('occ-log-classification/model')"
   ]
  },
  {
   "cell_type": "code",
   "execution_count": null,
   "metadata": {},
   "outputs": [],
   "source": [
    "class_legend = {\n",
    "    0:\"Misc\",\n",
    "    1:'Other BPD',\n",
    "    2:'Homeless',\n",
    "    3:'Medical',\n",
    "    4:'Patron interference',\n",
    "    5:\"Vehicle failure\",\n",
    "    6:\"Wayside equipment\",\n",
    "    7:\"Software related failures\",\n",
    "    8:\"Human Error\",\n",
    "    9:\"Weather\",\n",
    "    10:\"Info (no error)\",\n",
    "    11:\"Delays\",\n",
    "    12:\"Track obstruction\",\n",
    "    13:\"Schedule maintenance\"\n",
    "}"
   ]
  },
  {
   "cell_type": "code",
   "execution_count": null,
   "metadata": {},
   "outputs": [],
   "source": [
    "vizdata['Cat_Pred'] = vizdata['Log'].apply(lambda log: np.argmax(model.predict([log]), axis=1)[0])"
   ]
  },
  {
   "cell_type": "code",
   "execution_count": null,
   "metadata": {},
   "outputs": [],
   "source": [
    "vizdata['Class_Pred'] = vizdata['Cat_Pred'].apply(lambda code: class_legend[code])"
   ]
  },
  {
   "cell_type": "code",
   "execution_count": null,
   "metadata": {},
   "outputs": [],
   "source": [
    "vizdata.head(5)"
   ]
  },
  {
   "cell_type": "code",
   "execution_count": null,
   "metadata": {},
   "outputs": [],
   "source": [
    "def update(time = 622):\n",
    "  \n",
    "    fig = plt.figure(figsize=(10, 8), dpi=200)\n",
    "    plt.imshow(picdata)\n",
    "    for index,row in vizdata.iterrows():\n",
    "        if row['Time'] <= time:\n",
    "            plt.plot(1200* (row['X_Percentage']/100), 1100 * (row['Y_Percentage']/100), marker='v', color=\"blue\")\n",
    "\n",
    "    fig.canvas.draw_idle()\n",
    "\n",
    "interact(update, time = widgets.IntSlider(value=622, min=500, max=1200, step=1));"
   ]
  },
  {
   "cell_type": "code",
   "execution_count": null,
   "metadata": {},
   "outputs": [],
   "source": [
    "maptable = vizdata\n",
    "maptable[\"xplot\"] = (1200* (maptable['X_Percentage']/100))\n",
    "maptable[\"yplot\"] = (1080* (maptable['Y_Percentage']/100))\n",
    "maptable\n",
    "frametable = maptable[[\"xplot\", \"yplot\"]]\n",
    "xvals = maptable['xplot']\n",
    "yvals = maptable['yplot']\n",
    "maptable.head(5)"
   ]
  },
  {
   "cell_type": "code",
   "execution_count": null,
   "metadata": {},
   "outputs": [],
   "source": [
    "#plotly conversion hopefully\n",
    "import plotly.graph_objects as go\n",
    "import base64\n",
    "import plotly.express as px\n",
    "# Create figure\n",
    "def plotlyconvgeo():\n",
    "    mapfig = go.Figure()\n",
    "    img_width = 1200\n",
    "    img_height = 1080\n",
    "    mapfig.update_layout(\n",
    "        autosize=False\n",
    "    )\n",
    "\n",
    "    bartimage = base64.b64encode(open(\"assets/BARTtracksmap.png\", 'rb').read())\n",
    "    mapfig.add_layout_image(\n",
    "            dict(\n",
    "                source='data:image/png;base64,{}'.format(bartimage.decode()), #\"./assets/BARTtracksmap.png\",\n",
    "                xref=\"x\",\n",
    "                yref=\"y\",\n",
    "                x=0,\n",
    "                y=0,\n",
    "                sizex=img_width,\n",
    "                sizey=img_height,\n",
    "                #sizing=\"stretch\",\n",
    "                opacity=1,\n",
    "                sizing='contain',\n",
    "                layer=\"below\",xanchor=\"left\", yanchor=\"top\")\n",
    "    )\n",
    "    mapfig.update_xaxes(showgrid=False, range=(0, img_width))\n",
    "    mapfig.update_yaxes(showgrid=False, scaleanchor='x', range=(img_height, 0))\n",
    "\n",
    "    mapfig.add_trace(\n",
    "        go.Scatter(x=maptable[\"xplot\"], y=maptable[\"yplot\"], mode=\"markers\", text=maptable['Log'])\n",
    "\n",
    "    )\n",
    "\n",
    "    #mapfig.show()\n",
    "    return mapfig\n",
    "plotlyconvgeo()"
   ]
  },
  {
   "cell_type": "code",
   "execution_count": null,
   "metadata": {},
   "outputs": [],
   "source": [
    "catvizdata = vizdata.drop(columns=['X_Percentage', 'Y_Percentage'])\n",
    "refs = []\n",
    "refs = np.random.choice(np.arange(len(catvizdata['Location'])), len(catvizdata['Location']), replace=False)\n",
    "\n",
    "catvizdata['Reference'] = refs\n",
    "catvizdata.head(10)"
   ]
  },
  {
   "cell_type": "code",
   "execution_count": null,
   "metadata": {},
   "outputs": [],
   "source": [
    "import datetime\n",
    "timarr = []\n",
    "for t in catvizdata['Time']:\n",
    "    t = int(t)\n",
    "    temp = datetime.time(t//100, t%100)\n",
    "    timarr.append(temp)\n",
    "catvizdata['Time'] = timarr"
   ]
  },
  {
   "cell_type": "code",
   "execution_count": null,
   "metadata": {},
   "outputs": [],
   "source": [
    "from datetime import time\n",
    "timeaxis = []\n",
    "start = datetime.time(5, 0, 0)\n",
    "end = datetime.time(22, 0, 0)\n",
    "currhr = 5\n",
    "currmin = 1\n",
    "timeaxis.append(start)\n",
    "for i in range(1020):\n",
    "    nexttime = datetime.time(currhr, currmin, 0)\n",
    "    timeaxis.append(nexttime)\n",
    "    if currmin == 59:\n",
    "        currmin = 0\n",
    "        currhr = currhr + 1\n",
    "    else:\n",
    "        currmin = currmin + 1\n",
    "catvizdata = catvizdata.sort_values(by=['Time'])\n",
    "xaxistime = catvizdata['Time']"
   ]
  },
  {
   "cell_type": "code",
   "execution_count": null,
   "metadata": {},
   "outputs": [],
   "source": [
    "import plotly.express as px\n",
    "swimscatter = px.scatter(catvizdata, y=\"Class_Pred\", x='Time', color=\"Class_Pred\", symbol=\"Class_Pred\", hover_data=['Log', 'Location'])\n",
    "swimscatter.update_traces(marker_size=20)\n",
    "swimscatter.update_xaxes(categoryorder='category ascending', showgrid=False)\n",
    "swimscatter.show()"
   ]
  },
  {
   "cell_type": "code",
   "execution_count": null,
   "metadata": {},
   "outputs": [],
   "source": [
    "# import base64\n",
    "# import datetime\n",
    "# import io\n",
    "# import dash\n",
    "\n",
    "# from dash.dependencies import Input, Output, State\n",
    "# from dash import dcc, html, dash_table\n",
    "\n",
    "# import pandas as pd\n",
    "\n",
    "# external_stylesheets = ['https://codepen.io/chriddyp/pen/bWLwgP.css']\n",
    "\n",
    "# app = dash.Dash(__name__, external_stylesheets=external_stylesheets)\n",
    "\n",
    "# app.layout = html.Div([\n",
    "#     dcc.Upload(\n",
    "#         id='upload-data',\n",
    "#         children=html.Div([\n",
    "#             'Drag and Drop or ',\n",
    "#             html.A('Select Files')\n",
    "#         ]),\n",
    "#         style={\n",
    "#             'width': '100%',\n",
    "#             'height': '60px',\n",
    "#             'lineHeight': '60px',\n",
    "#             'borderWidth': '1px',\n",
    "#             'borderStyle': 'dashed',\n",
    "#             'borderRadius': '5px',\n",
    "#             'textAlign': 'center',\n",
    "#             'margin': '10px'\n",
    "#         },\n",
    "#         # Allow multiple files to be uploaded\n",
    "#         multiple=True\n",
    "#     ),\n",
    "#     html.Div(id='output-data-upload'),\n",
    "# ])\n",
    "\n",
    "# def parse_contents(contents, filename, date):\n",
    "#     content_type, content_string = contents.split(',')\n",
    "#     decoded = base64.b64decode(content_string)\n",
    "#     df = pd.read_csv(io.StringIO(decoded.decode('utf-8')))\n",
    "#     return geoplotly(df)\n",
    "\n",
    "# @app.callback(Output('output-data-upload', 'children'),\n",
    "#               Input('upload-data', 'contents'),\n",
    "#               State('upload-data', 'filename'),\n",
    "#               State('upload-data', 'last_modified'))\n",
    "\n",
    "# def update_output(list_of_contents, list_of_names, list_of_dates):\n",
    "#     if list_of_contents is not None:\n",
    "#         children = [\n",
    "#             parse_contents(c, n, d) for c, n, d in\n",
    "#             zip(list_of_contents, list_of_names, list_of_dates)]\n",
    "#         return children\n",
    "\n",
    "# if __name__ == '__main__':\n",
    "#     app.run_server(debug=True, use_reloader=False)"
   ]
  },
  {
   "cell_type": "code",
   "execution_count": null,
   "metadata": {},
   "outputs": [],
   "source": []
  }
 ],
 "metadata": {
  "kernelspec": {
   "display_name": "Python 3",
   "language": "python",
   "name": "python3"
  },
  "language_info": {
   "codemirror_mode": {
    "name": "ipython",
    "version": 3
   },
   "file_extension": ".py",
   "mimetype": "text/x-python",
   "name": "python",
   "nbconvert_exporter": "python",
   "pygments_lexer": "ipython3",
   "version": "3.8.5"
  }
 },
 "nbformat": 4,
 "nbformat_minor": 4
}
